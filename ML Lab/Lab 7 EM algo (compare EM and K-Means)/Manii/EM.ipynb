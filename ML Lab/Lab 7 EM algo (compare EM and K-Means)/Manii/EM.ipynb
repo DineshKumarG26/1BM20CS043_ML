{
  "nbformat": 4,
  "nbformat_minor": 0,
  "metadata": {
    "colab": {
      "provenance": [],
      "authorship_tag": "ABX9TyOCdXddRydWybgi1hGixdTm",
      "include_colab_link": true
    },
    "kernelspec": {
      "name": "python3",
      "display_name": "Python 3"
    },
    "language_info": {
      "name": "python"
    }
  },
  "cells": [
    {
      "cell_type": "markdown",
      "metadata": {
        "id": "view-in-github",
        "colab_type": "text"
      },
      "source": [
        "<a href=\"https://colab.research.google.com/github/moneyyyyyyyyyy/ML-lab/blob/main/EM.ipynb\" target=\"_parent\"><img src=\"https://colab.research.google.com/assets/colab-badge.svg\" alt=\"Open In Colab\"/></a>"
      ]
    },
    {
      "cell_type": "code",
      "execution_count": 2,
      "metadata": {
        "colab": {
          "base_uri": "https://localhost:8080/"
        },
        "id": "_koPWwA4dwas",
        "outputId": "8e9c31b3-57b5-4da6-aa0b-d336bdc832e1"
      },
      "outputs": [
        {
          "output_type": "stream",
          "name": "stdout",
          "text": [
            "82.00761549152422 52.981059926333586\n",
            "82.12894336998127 52.562823852049945\n"
          ]
        }
      ],
      "source": [
        "import math\n",
        "\n",
        "days = [70, 65, 90, 55, 100, 75, 80, 55, 30, 80]\n",
        "std = 10\n",
        "variance = std**2\n",
        "k = 2 # sunny and cloudy days\n",
        "avg_sunny = 80\n",
        "avg_cloudy = 55\n",
        "\n",
        "for n in range(1000):\n",
        "    # estimator step\n",
        "    E_sunny = []\n",
        "    E_cloudy = []\n",
        "    for i in range(len(days)):\n",
        "        val_sunny = math.pow(math.e, (-0.5)/(variance) *\n",
        "                             math.pow(days[i]-avg_sunny, 2))\n",
        "        val_cloudy = math.pow(math.e, (-0.5)/(variance)\n",
        "                              * math.pow(days[i]-avg_cloudy, 2))\n",
        "        E_sunny.append(val_sunny/(val_sunny + val_cloudy))\n",
        "        E_cloudy.append(val_cloudy/(val_sunny + val_cloudy))\n",
        "\n",
        "    # maximization step\n",
        "    sunny_numerator = 0\n",
        "    sunny_denominator = sum(E_sunny)\n",
        "    cloudy_numerator = 0\n",
        "    cloudy_denominator = sum(E_cloudy)\n",
        "\n",
        "    for i in range(len(days)):\n",
        "        sunny_numerator += E_sunny[i]*days[i]\n",
        "        cloudy_numerator += E_cloudy[i]*days[i]\n",
        "    if (sunny_numerator/sunny_denominator) - avg_sunny <= 0.1 and (cloudy_numerator/cloudy_denominator) - avg_cloudy <= 0.1:\n",
        "        break\n",
        "    avg_sunny = sunny_numerator/sunny_denominator\n",
        "    avg_cloudy = cloudy_numerator/cloudy_denominator\n",
        "\n",
        "    print(avg_sunny, avg_cloudy)"
      ]
    }
  ]
}