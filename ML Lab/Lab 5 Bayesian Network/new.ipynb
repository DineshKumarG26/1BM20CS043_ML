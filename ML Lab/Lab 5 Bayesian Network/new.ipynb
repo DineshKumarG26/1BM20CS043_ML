{
 "cells": [
  {
   "cell_type": "code",
   "execution_count": 1,
   "id": "6dc1dd8b",
   "metadata": {},
   "outputs": [],
   "source": [
    "from sklearn.datasets import fetch_20newsgroups\n",
    "news = fetch_20newsgroups()"
   ]
  },
  {
   "cell_type": "code",
   "execution_count": 2,
   "id": "8e1c6f0c",
   "metadata": {},
   "outputs": [
    {
     "name": "stdout",
     "output_type": "stream",
     "text": [
      "dict_keys(['data', 'filenames', 'target_names', 'target', 'DESCR'])\n"
     ]
    }
   ],
   "source": [
    "print(news.keys())"
   ]
  },
  {
   "cell_type": "code",
   "execution_count": 3,
   "id": "9a056f86",
   "metadata": {},
   "outputs": [
    {
     "data": {
      "text/plain": [
       "['alt.atheism',\n",
       " 'comp.graphics',\n",
       " 'comp.os.ms-windows.misc',\n",
       " 'comp.sys.ibm.pc.hardware',\n",
       " 'comp.sys.mac.hardware',\n",
       " 'comp.windows.x',\n",
       " 'misc.forsale',\n",
       " 'rec.autos',\n",
       " 'rec.motorcycles',\n",
       " 'rec.sport.baseball',\n",
       " 'rec.sport.hockey',\n",
       " 'sci.crypt',\n",
       " 'sci.electronics',\n",
       " 'sci.med',\n",
       " 'sci.space',\n",
       " 'soc.religion.christian',\n",
       " 'talk.politics.guns',\n",
       " 'talk.politics.mideast',\n",
       " 'talk.politics.misc',\n",
       " 'talk.religion.misc']"
      ]
     },
     "execution_count": 3,
     "metadata": {},
     "output_type": "execute_result"
    }
   ],
   "source": [
    "news.target\n",
    "\n",
    "news. target_names"
   ]
  },
  {
   "cell_type": "code",
   "execution_count": 15,
   "id": "c186637f",
   "metadata": {},
   "outputs": [],
   "source": [
    "cats = ['alt.atheism', 'sci.space','comp.graphics', 'sci.space']\n",
    "news_train = fetch_20newsgroups(subset ='train', categories=cats)"
   ]
  },
  {
   "cell_type": "code",
   "execution_count": 16,
   "id": "c2afc257",
   "metadata": {},
   "outputs": [],
   "source": [
    "news_test = fetch_20newsgroups(subset= 'test', categories=cats)"
   ]
  },
  {
   "cell_type": "code",
   "execution_count": 17,
   "id": "49a52c69",
   "metadata": {},
   "outputs": [
    {
     "name": "stdout",
     "output_type": "stream",
     "text": [
      "dict_keys(['data', 'filenames', 'target_names', 'target', 'DESCR'])\n",
      "['alt.atheism', 'comp.graphics', 'sci.space', 'sci.space']\n"
     ]
    }
   ],
   "source": [
    "print(news_train . keys( ))\n",
    "print (news_train[ 'target_names'])"
   ]
  },
  {
   "cell_type": "code",
   "execution_count": 18,
   "id": "031d425b",
   "metadata": {},
   "outputs": [],
   "source": [
    "from sklearn.feature_extraction.text import CountVectorizer"
   ]
  },
  {
   "cell_type": "code",
   "execution_count": 19,
   "id": "3b015675",
   "metadata": {},
   "outputs": [
    {
     "name": "stdout",
     "output_type": "stream",
     "text": [
      "  (0, 12719)\t1\n",
      "  (0, 9599)\t1\n",
      "  (0, 19118)\t2\n",
      "  (0, 8021)\t1\n",
      "  (0, 1435)\t1\n",
      "  (0, 25770)\t1\n",
      "  (0, 22452)\t1\n",
      "  (0, 28288)\t3\n",
      "  (0, 16593)\t1\n",
      "  (0, 12496)\t4\n",
      "  (0, 8345)\t3\n",
      "  (0, 19968)\t1\n",
      "  (0, 19826)\t1\n",
      "  (0, 8112)\t1\n",
      "  (0, 24252)\t1\n",
      "  (0, 2173)\t1\n",
      "  (0, 1619)\t1\n",
      "  (0, 3416)\t1\n",
      "  (0, 17184)\t1\n",
      "  (0, 13608)\t1\n",
      "  (0, 17048)\t1\n",
      "  (0, 10463)\t1\n",
      "  (0, 26689)\t1\n",
      "  (0, 5013)\t1\n",
      "  (0, 13316)\t1\n",
      "  :\t:\n",
      "  (1656, 18609)\t1\n",
      "  (1656, 12805)\t2\n",
      "  (1656, 17462)\t8\n",
      "  (1656, 9202)\t1\n",
      "  (1656, 15868)\t2\n",
      "  (1656, 23624)\t2\n",
      "  (1656, 16075)\t3\n",
      "  (1656, 29142)\t2\n",
      "  (1656, 28068)\t1\n",
      "  (1656, 8277)\t1\n",
      "  (1656, 3501)\t1\n",
      "  (1656, 19121)\t1\n",
      "  (1656, 27936)\t1\n",
      "  (1656, 13519)\t1\n",
      "  (1656, 2827)\t1\n",
      "  (1656, 18533)\t1\n",
      "  (1656, 19653)\t1\n",
      "  (1656, 15418)\t1\n",
      "  (1656, 27085)\t1\n",
      "  (1656, 2717)\t1\n",
      "  (1656, 27169)\t1\n",
      "  (1656, 1122)\t1\n",
      "  (1656, 9138)\t1\n",
      "  (1656, 13349)\t1\n",
      "  (1656, 3630)\t1\n"
     ]
    }
   ],
   "source": [
    "count_vect=CountVectorizer()\n",
    "X_train_tf=count_vect.fit_transform(news_train.data)\n",
    "print(X_train_tf)"
   ]
  },
  {
   "cell_type": "code",
   "execution_count": 20,
   "id": "bccb3442",
   "metadata": {},
   "outputs": [
    {
     "data": {
      "text/plain": [
       "(1657, 29663)"
      ]
     },
     "execution_count": 20,
     "metadata": {},
     "output_type": "execute_result"
    }
   ],
   "source": [
    "\n",
    "X_train_tf.shape"
   ]
  },
  {
   "cell_type": "code",
   "execution_count": 21,
   "id": "a689b33a",
   "metadata": {},
   "outputs": [
    {
     "data": {
      "text/plain": [
       "(1657, 29663)"
      ]
     },
     "execution_count": 21,
     "metadata": {},
     "output_type": "execute_result"
    }
   ],
   "source": [
    "from sklearn.feature_extraction.text import TfidfTransformer\n",
    "tfidf_transformer=TfidfTransformer()\n",
    "X_train_tfidf=tfidf_transformer.fit_transform(X_train_tf)\n",
    "X_train_tfidf.shape"
   ]
  },
  {
   "cell_type": "code",
   "execution_count": 22,
   "id": "20bc0c01",
   "metadata": {},
   "outputs": [],
   "source": [
    "from sklearn.naive_bayes import MultinomialNB\n",
    "clf = MultinomialNB().fit(X_train_tfidf, news_train.target)"
   ]
  },
  {
   "cell_type": "code",
   "execution_count": 23,
   "id": "ac357f6b",
   "metadata": {},
   "outputs": [],
   "source": [
    "X_test_tf=count_vect.transform(news_test.data)\n",
    "X_test_tfidf=tfidf_transformer.transform(X_test_tf)\n",
    "predicted=clf.predict(X_test_tfidf)\n"
   ]
  },
  {
   "cell_type": "code",
   "execution_count": 24,
   "id": "41e2d966",
   "metadata": {},
   "outputs": [
    {
     "data": {
      "text/plain": [
       "array([2, 1, 1, ..., 0, 1, 2], dtype=int64)"
      ]
     },
     "execution_count": 24,
     "metadata": {},
     "output_type": "execute_result"
    }
   ],
   "source": [
    "\n",
    "predicted"
   ]
  },
  {
   "cell_type": "code",
   "execution_count": 26,
   "id": "a49a9736",
   "metadata": {},
   "outputs": [
    {
     "name": "stdout",
     "output_type": "stream",
     "text": [
      "Accuracy 0.9473684210526315\n"
     ]
    }
   ],
   "source": [
    "from sklearn import metrics\n",
    "\n",
    "from sklearn.metrics import accuracy_score\n",
    "print(\"Accuracy\",accuracy_score(news_test.target,predicted))\n",
    "# print(metrics.confusion_matrix(news_test.target,predicted))"
   ]
  },
  {
   "cell_type": "code",
   "execution_count": null,
   "id": "e4f7a4fe",
   "metadata": {},
   "outputs": [],
   "source": []
  }
 ],
 "metadata": {
  "kernelspec": {
   "display_name": "Python 3 (ipykernel)",
   "language": "python",
   "name": "python3"
  },
  "language_info": {
   "codemirror_mode": {
    "name": "ipython",
    "version": 3
   },
   "file_extension": ".py",
   "mimetype": "text/x-python",
   "name": "python",
   "nbconvert_exporter": "python",
   "pygments_lexer": "ipython3",
   "version": "3.9.7"
  }
 },
 "nbformat": 4,
 "nbformat_minor": 5
}
